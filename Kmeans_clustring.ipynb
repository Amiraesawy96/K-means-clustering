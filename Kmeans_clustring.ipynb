{
 "cells": [
  {
   "cell_type": "markdown",
   "metadata": {},
   "source": [
    "# <center><font color=blue>K-means Clustering </font>"
   ]
  },
  {
   "cell_type": "markdown",
   "metadata": {},
   "source": [
    "<font size=4>Using the data provided in the file “Data.txt” with K = 3, apply K-means algorithm. Each row in the file corresponds to one data point. <br>\n",
    "One important aspect of K-means that changes the results significantly is the initialization.\n",
    "So you should run the K-means algorithm with the given initialization below above 100 times. The final output of the K-means clustering is the result that gives the minimum average distance between the points and the centers of their corresponding clusters.<br>\n",
    "One possible startegy for intialization cluster centers  is to select the furthest points from each other.\n",
    "</font>\n"
   ]
  },
  {
   "cell_type": "code",
   "execution_count": 1,
   "metadata": {},
   "outputs": [],
   "source": [
    "import numpy as np\n",
    "import matplotlib.pylab as plt\n",
    "from copy import deepcopy\n",
    "import numpy.ma as ma"
   ]
  },
  {
   "cell_type": "code",
   "execution_count": 2,
   "metadata": {},
   "outputs": [],
   "source": [
    "def dist(a, b, ax=1):\n",
    "    return np.linalg.norm(a - b, axis=ax)"
   ]
  },
  {
   "cell_type": "code",
   "execution_count": 3,
   "metadata": {},
   "outputs": [],
   "source": [
    "def Random_Select(data):\n",
    "    mean = np.mean(data, axis = 0)\n",
    "    std = np.std(data, axis = 0)\n",
    "    m1 = np.random.randn(2,)*std + mean\n",
    "    distances = np.zeros(300,)\n",
    "    for i in range(len(data)):\n",
    "        distances[i] = dist (data[i],m1,ax=None)\n",
    "    m2= data[np.argmax(distances)]\n",
    "    m2_index = np.argmax(distances)\n",
    "    z = ma.masked_equal(distances,distances[m2_index])\n",
    "    m3 =data[np.argmax(z)]\n",
    "    return m1,m2,m3"
   ]
  },
  {
   "cell_type": "code",
   "execution_count": 4,
   "metadata": {},
   "outputs": [],
   "source": [
    "def Membership(data,m1,m2,m3,rnk):\n",
    "    \"\"\"\n",
    "    This function should implement step 2 in slide 6, Lec 6\n",
    "    Possible values for rnk will be 0 or one ore Two\n",
    "    Input: Dataset, 3-means, and memership vector\n",
    "    Return: New membership vector\n",
    "    \"\"\"\n",
    "    rnk = np.zeros(len(data))\n",
    "    centers = np.vstack((m1,m2,m3))\n",
    "    for i in range(len(data)):\n",
    "        distances = dist(data[i], centers)\n",
    "        cluster = np.argmin(distances)\n",
    "        rnk[i] = cluster\n",
    "    \n",
    "    \n",
    "    return rnk\n"
   ]
  },
  {
   "cell_type": "code",
   "execution_count": 5,
   "metadata": {},
   "outputs": [],
   "source": [
    "def Update_Means(data,rnk):\n",
    "    \"\"\"\n",
    "    This function should implement step 3 in slide 6, Lec 6\n",
    "    \n",
    "    Input: Dataset and memership vector\n",
    "    Return: updated 3-means\n",
    "    \"\"\"\n",
    "    m1 = np.mean(data[rnk == 0], axis=0)\n",
    "    m2 = np.mean(data[rnk == 1], axis=0) \n",
    "    m3 = np.mean(data[rnk == 2], axis=0)  \n",
    "  \n",
    "    return m1,m2,m3\n"
   ]
  },
  {
   "cell_type": "code",
   "execution_count": 6,
   "metadata": {},
   "outputs": [],
   "source": [
    "def Objective_Function(data,rnk,m1,m2,m3):\n",
    "    \n",
    "    d1 = dist (data[rnk==0],m1,ax=None) \n",
    "    d2 = dist (data[rnk==1],m2,ax=None) \n",
    "    d3 = dist (data[rnk==2],m3,ax=None)\n",
    "    Avgdist = (1/3) * (d1+d2+d3)\n",
    "    \n",
    "    return Avgdist"
   ]
  },
  {
   "cell_type": "code",
   "execution_count": 7,
   "metadata": {},
   "outputs": [],
   "source": [
    "def Stopping_Criteria(m1_b,m2_b,m3_b,m1,m2,m3):\n",
    "    \"\"\"\n",
    "    This function should Test Convergence\n",
    "    \n",
    "    Input:  3-means before updating and after it.\n",
    "    Return: return True or  return False\n",
    "    \"\"\"\n",
    "    centers_old=np.vstack((m1_b,m2_b,m3_b))\n",
    "    centers_new=np.vstack((m1,m2,m3))\n",
    "    error=dist(centers_new,centers_old,None)\n",
    "    if error != 0:\n",
    "        return True\n",
    "    else:\n",
    "        return False"
   ]
  },
  {
   "cell_type": "code",
   "execution_count": 8,
   "metadata": {},
   "outputs": [],
   "source": [
    "data=np.loadtxt(\"Data.txt\") # Load Data\n",
    "    \n",
    "counter=0\n",
    "k=3\n",
    "#center = deepcopy(centers)\n",
    "m1f,m2f,m3f=np.zeros((2,100)),np.zeros((2,100)),np.zeros((2,100)) # 3 - Means \n",
    "\n",
    "Avgdist=np.zeros((100,))\n",
    "\n",
    "while(counter <100):\n",
    "        # --------------------Intialization Step 1------------------------------#\n",
    "        m1,m2,m3= Random_Select(data)\n",
    "        \n",
    "        rnk=np.zeros(len(data)) # Membership Vector\n",
    "        \n",
    "        m1_b=m1\n",
    "        m2_b=m2\n",
    "        m3_b=m3\n",
    "        while(True):\n",
    "            #---------------Step 2 compute rnk-----------------------------------------#\n",
    "            \n",
    "            rnk=Membership(data,m1,m2,m3,rnk)\n",
    "            #---------------Step 3 update means-----------------------------------------#\n",
    "            \n",
    "            m1,m2,m3=Update_Means(data,rnk)\n",
    "            #---------------Step 4 Test Convergence -----------------------------------------#\n",
    "                \n",
    "            if Stopping_Criteria(m1_b,m2_b,m3_b,m1,m2,m3):\n",
    "                m1f[:,counter],m2f[:,counter],m3f[:,counter]=m1,m2,m3\n",
    "                #print('yes')\n",
    "                Avgdist[counter]=Objective_Function(data,rnk,m1,m2,m3)\n",
    "                break\n",
    "                \n",
    "              \n",
    "            m1_b=m1\n",
    "            m2_b=m2\n",
    "            m3_b=m3\n",
    "\n",
    "        counter+=1     \n",
    "\n",
    "        \n",
    "\n",
    "\n",
    "  \n",
    "    "
   ]
  },
  {
   "cell_type": "code",
   "execution_count": 222,
   "metadata": {},
   "outputs": [
    {
     "data": {
      "text/plain": [
       "16"
      ]
     },
     "execution_count": 222,
     "metadata": {},
     "output_type": "execute_result"
    }
   ],
   "source": [
    "np.argmin(Avgdist)\n",
    "\n"
   ]
  },
  {
   "cell_type": "code",
   "execution_count": 224,
   "metadata": {},
   "outputs": [
    {
     "data": {
      "image/png": "[encoded data removed]",
      "text/plain": [
       "<Figure size 432x288 with 1 Axes>"
      ]
     },
     "metadata": {
      "needs_background": "light"
     },
     "output_type": "display_data"
    }
   ],
   "source": [
    "#m1f[2,6],m2f[2,6],m3f[2,6]\n",
    "C = np.vstack((m1f[:,16],m2f[:,16],m3f[:,16]))\n",
    "colors=['orange', 'blue', 'green']\n",
    "\n",
    "for i in range(n):\n",
    "    plt.scatter(data[i,0], data[i,1], s=7, c='r')\n",
    "plt.scatter(C[:,0], C[:,1], marker='*', c='g', s=150)\n",
    "plt.savefig('kmeans.png')"
   ]
  },
  {
   "cell_type": "code",
   "execution_count": null,
   "metadata": {},
   "outputs": [],
   "source": []
  }
 ],
 "metadata": {
  "kernelspec": {
   "display_name": "Python 3",
   "language": "python",
   "name": "python3"
  },
  "language_info": {
   "codemirror_mode": {
    "name": "ipython",
    "version": 3
   },
   "file_extension": ".py",
   "mimetype": "text/x-python",
   "name": "python",
   "nbconvert_exporter": "python",
   "pygments_lexer": "ipython3",
   "version": "3.7.3"
  }
 },
 "nbformat": 4,
 "nbformat_minor": 2
}
